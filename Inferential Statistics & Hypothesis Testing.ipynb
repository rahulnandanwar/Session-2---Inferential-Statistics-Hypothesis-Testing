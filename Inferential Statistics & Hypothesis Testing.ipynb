{
 "cells": [
  {
   "cell_type": "markdown",
   "metadata": {},
   "source": [
    "### Definition of Statistics\n",
    "\n",
    "Any raw Data, when collected and organized in the form of numerical or tables, is known as Statistics. Statistics is also the mathematical study of the probability of events occurring based on known quantitative Data or a Collection of Data.\n",
    "\n",
    "The process of identifying, evaluating, and communicating significant trends in data is known as analytics. Analytics simply allows us to see insights and important aspects that we might not have noticed in other ways."
   ]
  },
  {
   "cell_type": "markdown",
   "metadata": {},
   "source": [
    "### Basic Terminologies in Statistics:\n",
    "\n",
    "To become a master in the statistical program we should be familiar with certain terminologies. They are:\n",
    "\n",
    "    1. Population: A population is the set of resources from where we can collect data\n",
    "\n",
    "    2. Sample: A Sample is nothing but a subset of the Population which is used for sampling of data and in inferential statistics to predict the outcome.\n",
    "\n",
    "    3. Variable: A Variable can be a number, a characteristic, or a quantity that can be counted. It can be also called a data point.\n",
    "\n",
    "    4.Probability Distribution: A probability distribution is a mathematical concept that primarily gives the probabilities of occurrence of different possible outcomes generally for an experiment conducted by statisticians.\n",
    "    \n",
    "    5.Statistical Parameter: Statistical or population parameter is basically a quantity that helps in indexing a family of probability distributions like the mean, median, or mode of a population."
   ]
  },
  {
   "cell_type": "markdown",
   "metadata": {},
   "source": [
    "### Types of Statistics"
   ]
  },
  {
   "cell_type": "markdown",
   "metadata": {},
   "source": [
    "<img src=\"types_of_statistics.jpg\" width=\"800\" height=\"800\">"
   ]
  },
  {
   "cell_type": "markdown",
   "metadata": {},
   "source": [
    "### Descriptive Statistics\n",
    "\n",
    "Descriptive statistics is a concept that allows us to analyze and summarize data and organize the same in the form of numbers graph, bar plots, histogram, pie chart, etc. Descriptive statistics is simply a process to describe our existing data. It transforms the raw observations into some meaningful data that can be further interpreted and used. Concepts like standard deviation, central tendency are widely used around the world when it comes to learning descriptive statistics.\n",
    "\n",
    "Descriptive statistics describes data (for example, a chart or graph) and inferential statistics allows you to make predictions (“inferences”) from that data.\n",
    "\n",
    "For example, you might stand in a mall and ask a sample of 100 people if they like shopping at Sears. You could make a bar chart of yes or no answers (that would be descriptive statistics"
   ]
  },
  {
   "cell_type": "markdown",
   "metadata": {},
   "source": [
    "### Inferential Statistics \n",
    "\n",
    "Inferential statistics on the other hand is an important concept that deals with drawing conclusions based on small samples collected from the entire population. For example, during an election poll, people will often want to predict the exit poll results so they will conduct a survey in various parts of state or country and record their opinion. Based on the information they have collected they tend to draw conclusions and make inferences to predict results for the entire population.\n",
    "\n",
    "With inferential statistics, you take data from samples and make generalizations about a population."
   ]
  },
  {
   "cell_type": "markdown",
   "metadata": {},
   "source": [
    "Because the goal of inferential statistics is to draw conclusions from a sample and generalize them to a population, we need to have confidence that our sample accurately reflects the population. This requirement affects our process. At a broad level, we must do the following:\n",
    "\n",
    "\n",
    "    1. Define the population we are studying.\n",
    "    2. Draw a representative sample from that population.\n",
    "    3. Use analyses that incorporate the sampling error."
   ]
  },
  {
   "cell_type": "markdown",
   "metadata": {},
   "source": [
    "### Hypothesis Testing"
   ]
  },
  {
   "cell_type": "markdown",
   "metadata": {},
   "source": [
    "Hypothesis testing is a formal procedure for investigating our ideas about the world using statistics. It is most often used by scientists to test specific predictions, called hypotheses, that arise from theories.\n",
    "\n",
    "There are 5 main steps in hypothesis testing:\n",
    "\n",
    "    1. State your research hypothesis as a null hypothesis and alternate hypothesis (Ho) and (Ha or H1).\n",
    "    2. Collect data in a way designed to test the hypothesis.\n",
    "    3. Perform an appropriate statistical test.\n",
    "    4. Decide whether to reject or fail to reject your null hypothesis.\n",
    "    5. Present the findings in your results and discussion section."
   ]
  },
  {
   "cell_type": "markdown",
   "metadata": {},
   "source": [
    "### Which are important parameter of hypothesis testing ?"
   ]
  },
  {
   "cell_type": "markdown",
   "metadata": {},
   "source": [
    "### Level of significance: \n",
    "\n",
    "Refers to the degree of significance in which we accept or reject the null-hypothesis. 100% accuracy is not possible for accepting or rejecting a hypothesis, so we therefore select a level of significance that is usually 5%.\n",
    "This is normally denoted with alpha(maths symbol ) and generally it is 0.05 or 5% , which means your output should be 95% confident to give similar kind of result in each sample.\n",
    "\n",
    "\n",
    "### P-value :\n",
    "\n",
    "The P value, or calculated probability, is the probability of finding the observed, or more extreme, results when the null hypothesis (H 0) of a study question is true — the definition of ‘extreme’ depends on how the hypothesis is being tested.\n",
    "\n",
    "If your P value is less than the chosen significance level then you reject the null hypothesis i.e. accept that your sample gives reasonable evidence to support the alternative hypothesis. It does NOT imply a “meaningful” or “important” difference; that is for you to decide when considering the real-world relevance of your result.\n",
    "\n",
    "Example : you have a coin and you don’t know whether that is fair or tricky so let’s decide null and alternate hypothesis\n",
    "\n",
    "H0 : a coin is a fair coin. (a coin is not a tricky coin)\n",
    "\n",
    "H1 : a coin is a tricky coin. and alpha = 5% or 0.05\n",
    "\n",
    "Now let’s toss the coin and calculate p- value ( probability value).\n",
    "\n",
    "Toss a coin 1st time and result is tail- P-value = 50% (as head and tail have equal probability)\n",
    "\n",
    "Toss a coin 2nd time and result is tail, now p-value = 50/2 = 25%\n",
    "\n",
    "and similarly we Toss 6 consecutive time and got result as P-value = 1.5% but we set our significance level as 95% means 5% error rate we allow and here we see we are beyond that level \n",
    "\n",
    "i.e. our null- hypothesis does not hold good so we need to reject and propose that this coin is a tricky coin which is actually."
   ]
  },
  {
   "cell_type": "markdown",
   "metadata": {},
   "source": [
    "### Null & Alternative Hypotheses\n",
    "\n",
    "The null and alternative hypotheses are two competing claims that researchers weigh evidence for and against using a statistical test:\n",
    "\n",
    "######  Null hypothesis (H0): There’s no effect in the population.\n",
    "\n",
    "###### Alternative hypothesis (Ha or H1): There’s an effect in the population.\n",
    "\n",
    "The effect is usually the effect of the independent variable on the dependent variable.\n",
    "\n",
    "\n",
    "###### Answering your research question with hypotheses\n",
    "\n",
    "The null and alternative are always claims about the population. That’s because the goal of hypothesis testing is to make inferences about a population based on a sample. Often, we infer whether there’s an effect in the population by looking at differences between groups or relationships between variables in the sample.\n",
    "\n",
    "You can use a statistical test to decide whether the evidence favors the null or alternative hypothesis. Each type of statistical test comes with a specific way of phrasing the null and alternative hypothesis. However, the hypotheses can also be phrased in a general way that applies to any test."
   ]
  },
  {
   "cell_type": "markdown",
   "metadata": {},
   "source": [
    "### What is a null hypothesis?\n",
    "\n",
    "The null hypothesis is the claim that there’s no effect in the population.\n",
    "\n",
    "If the sample provides enough evidence against the claim that there’s no effect in the population (p ≤ α), then we can reject the null hypothesis. Otherwise, we fail to reject the null hypothesis.\n",
    "\n",
    "Although “fail to reject” may sound awkward, it’s the only wording that statisticians accept. Be careful not to say you “prove” or “accept” the null hypothesis."
   ]
  },
  {
   "cell_type": "markdown",
   "metadata": {},
   "source": [
    "### Example: Population on trial\n",
    "\n",
    "Think of a statistical test as being like a legal trial. The population is accused of the “crime” of having an effect, and the sample is the criminal evidence. In the United States and many other countries, a person accused of a crime is assumed to be innocent until proven guilty. Similarly, we start by assuming the population is “innocent” of having an effect.\n",
    "In other words, the null hypothesis (i.e., that there is no effect) is assumed to be true until the sample provides enough evidence to reject it.\n",
    "\n",
    "Null hypotheses often include phrases such as “no effect,” “no difference,” or “no relationship.” When written in mathematical terms, they always include an equality (usually =, but sometimes ≥ or ≤).\n",
    "\n",
    "You can never know with complete certainty whether there is an effect in the population. Some percentage of the time, your inference about the population will be incorrect. When you incorrectly reject the null hypothesis, it’s called a type I error. When you incorrectly fail to reject it, it’s a type II error."
   ]
  },
  {
   "cell_type": "markdown",
   "metadata": {},
   "source": [
    "### Examples of null hypotheses\n",
    "\n",
    "The table below gives examples of research questions and null hypotheses. There’s always more than one way to answer a research question, but these null hypotheses can help you get started.\n",
    "\n",
    "<img src=\"null_hypothesis.PNG\" width=\"800\" height=\"800\">"
   ]
  },
  {
   "cell_type": "markdown",
   "metadata": {},
   "source": [
    "### What is an alternative hypothesis?\n",
    "\n",
    "The alternative hypothesis (Ha) is the other answer to your research question. It claims that there’s an effect in the population.\n",
    "\n",
    "Often, your alternative hypothesis is the same as your research hypothesis. In other words, it’s the claim that you expect or hope will be true.\n",
    "\n",
    "The alternative hypothesis is the complement to the null hypothesis. Null and alternative hypotheses are exhaustive, meaning that together they cover every possible outcome. They are also mutually exclusive, meaning that only one can be true at a time.\n",
    "\n",
    "Be careful with your words when you report the results of a statistical test in a paper or thesis. If you reject the null hypothesis, you can say that the alternative hypothesis is supported. On the other hand, if you fail to reject the null hypothesis, then you can say that the alternative hypothesis is not supported. Never say that you’ve proven or disproven a hypothesis.\n",
    "\n",
    "Alternative hypotheses often include phrases such as “an effect,” “a difference,” or “a relationship.” When null hypotheses are written in mathematical terms, they always include an inequality (usually ≠, but sometimes < or >). As with null hypotheses, there are many acceptable ways to phrase an alternative hypothesis."
   ]
  },
  {
   "attachments": {
    "image.png": {
     "image/png": "[encoded data removed]"
    }
   },
   "cell_type": "markdown",
   "metadata": {},
   "source": [
    "### Examples of alternative hypotheses\n",
    "\n",
    "The table below gives examples of research questions and alternative hypotheses to help you get started with formulating your own.\n",
    "\n",
    "![image.png](attachment:image.png)"
   ]
  },
  {
   "cell_type": "markdown",
   "metadata": {},
   "source": [
    "### Similarities and differences between null and alternative hypotheses\n",
    "\n",
    "Null and alternative hypotheses are similar in some ways:\n",
    "\n",
    "    1. They’re both answers to the research question.\n",
    "    2. They both make claims about the population.\n",
    "    3. They’re both evaluated by statistical tests.\n",
    "\n",
    "However, there are important differences between the two types of hypotheses, summarized in the following table."
   ]
  },
  {
   "attachments": {
    "image.png": {
     "image/png": "[encoded data removed]"
    }
   },
   "cell_type": "markdown",
   "metadata": {},
   "source": [
    "![image.png](attachment:image.png)"
   ]
  },
  {
   "cell_type": "markdown",
   "metadata": {},
   "source": [
    "### How to write null and alternative hypotheses\n",
    "\n",
    "To help you write your hypotheses, you can use the template sentences below. If you know which statistical test you’re going to use, you can use the test-specific template sentences. Otherwise, you can use the general template sentences."
   ]
  },
  {
   "cell_type": "markdown",
   "metadata": {},
   "source": [
    "### General template sentences\n",
    "\n",
    "The only thing you need to know to use these general template sentences are your dependent and independent variables. To write your research question, null hypothesis, and alternative hypothesis, fill in the following sentences with your variables:\n",
    "\n",
    "Does independent variable affect dependent variable?\n",
    "\n",
    "Null hypothesis (H0): Independent variable does not affect dependent variable.\n",
    "Alternative hypothesis (Ha): Independent variable affects dependent variable.\n",
    "\n",
    "### Test-specific template sentences\n",
    "\n",
    "Once you know the statistical test you’ll be using, you can write your hypotheses in a more precise and mathematical way specific to the test you chose. The table below provides template sentences for common statistical tests."
   ]
  },
  {
   "cell_type": "markdown",
   "metadata": {},
   "source": [
    "<img src=\"null hypothesis tests.PNG\" width=\"800\" height=\"800\">"
   ]
  },
  {
   "cell_type": "markdown",
   "metadata": {},
   "source": [
    "### Choosing the Right Statistical Test | Types and Examples"
   ]
  },
  {
   "cell_type": "markdown",
   "metadata": {},
   "source": [
    "Statistical tests are used in hypothesis testing. They can be used to:\n",
    "\n",
    "determine whether a predictor variable has a statistically significant relationship with an outcome variable.\n",
    "estimate the difference between two or more groups.\n",
    "\n",
    "Statistical tests assume a null hypothesis of no relationship or no difference between groups. Then they determine whether the observed data fall outside of the range of values predicted by the null hypothesis.\n",
    "\n",
    "If you already know what types of variables you’re dealing with, you can use the flowchart to choose the right statistical test for your data."
   ]
  },
  {
   "cell_type": "markdown",
   "metadata": {},
   "source": [
    "### What does a statistical test do?\n",
    "\n",
    "Statistical tests work by calculating a test statistic – a number that describes how much the relationship between variables in your test differs from the null hypothesis of no relationship.\n",
    "\n",
    "It then calculates a p-value (probability value). The p-value estimates how likely it is that you would see the difference described by the test statistic if the null hypothesis of no relationship were true.\n",
    "\n",
    "If the value of the test statistic is more extreme than the statistic calculated from the null hypothesis, then you can infer a statistically significant relationship between the predictor and outcome variables.\n",
    "\n",
    "If the value of the test statistic is less extreme than the one calculated from the null hypothesis, then you can infer no statistically significant relationship between the predictor and outcome variables."
   ]
  },
  {
   "cell_type": "markdown",
   "metadata": {},
   "source": [
    "### Statistical assumptions\n",
    "\n",
    "Statistical tests make some common assumptions about the data they are testing:\n",
    "\n",
    "    1. Independence of observations (a.k.a. no autocorrelation): The observations/variables you include in your test are not related (for example, multiple measurements of a single test subject are not independent, while measurements of multiple different test subjects are independent).\n",
    "\n",
    "    2. Homogeneity of variance: the variance within each group being compared is similar among all groups. If one group has much more variation than others, it will limit the test’s effectiveness.\n",
    "\n",
    "    3. Normality of data: the data follows a normal distribution (a.k.a. a bell curve). This assumption applies only to quantitative data.If your data do not meet the assumptions of normality or homogeneity of variance, you may be able to perform a nonparametric statistical test, which allows you to make comparisons without any assumptions about the data distribution.\n",
    "\n",
    "If your data do not meet the assumption of independence of observations, you may be able to use a test that accounts for structure in your data (repeated-measures tests or tests that include blocking variables)."
   ]
  },
  {
   "cell_type": "markdown",
   "metadata": {},
   "source": [
    "### Types of variables\n",
    "\n",
    "The types of variables you have usually determine what type of statistical test you can use.\n",
    "\n",
    "Quantitative variables represent amounts of things (e.g. the number of trees in a forest). Types of quantitative variables include:\n",
    "\n",
    "    1. Continuous (a.k.a ratio variables): represent measures and can usually be divided into units smaller than one (e.g. 0.75 grams).\n",
    "    2. Discrete (a.k.a integer variables): represent counts and usually can’t be divided into units smaller than one (e.g. 1 tree).\n",
    "\n",
    "Categorical variables represent groupings of things (e.g. the different tree species in a forest). Types of categorical variables include:\n",
    "\n",
    "    1. Ordinal: represent data with an order (e.g. rankings).\n",
    "    2. Nominal: represent group names (e.g. brands or species names).\n",
    "    3. Binary: represent data with a yes/no or 1/0 outcome (e.g. win or lose).\n",
    "\n",
    "Choose the test that fits the types of predictor and outcome variables you have collected (if you are doing an experiment, these are the independent and dependent variables). Consult the tables below to see which test best matches your variables."
   ]
  },
  {
   "cell_type": "markdown",
   "metadata": {},
   "source": [
    "### Choosing a parametric test: regression, comparison, or correlation\n",
    "\n",
    "Parametric tests usually have stricter requirements than nonparametric tests, and are able to make stronger inferences from the data. They can only be conducted with data that adheres to the common assumptions of statistical tests.\n",
    "\n",
    "The most common types of parametric test include regression tests, comparison tests, and correlation tests.\n",
    "\n",
    "### Regression tests\n",
    "\n",
    "###### Regression tests look for cause-and-effect relationships. \n",
    "\n",
    "They can be used to estimate the effect of one or more continuous variables on another variable."
   ]
  },
  {
   "cell_type": "markdown",
   "metadata": {},
   "source": [
    "<img src=\"regression_test.PNG\" width=\"800\" height=\"800\">"
   ]
  },
  {
   "cell_type": "markdown",
   "metadata": {},
   "source": [
    "### Comparison tests\n",
    "\n",
    "###### Comparison tests look for differences among group means. They can be used to test the effect of a categorical variable on the mean value of some other characteristic.\n",
    "\n",
    "T-tests are used when comparing the means of precisely two groups (e.g. the average heights of men and women). ANOVA and MANOVA tests are used when comparing the means of more than two groups (e.g. the average heights of children, teenagers, and adults).\n",
    "\n",
    "\n",
    "\n",
    "<img src=\"Comparison_tests.PNG\" width=\"800\" height=\"800\">"
   ]
  },
  {
   "cell_type": "markdown",
   "metadata": {},
   "source": [
    "### Correlation tests\n",
    "\n",
    "###### Correlation tests check whether variables are related without hypothesizing a cause-and-effect relationship.\n",
    "\n",
    "These can be used to test whether two variables you want to use in (for example) a multiple regression test are autocorrelated."
   ]
  },
  {
   "cell_type": "markdown",
   "metadata": {},
   "source": [
    "<img src=\"Correlation_tests.PNG\" width=\"800\" height=\"800\">"
   ]
  },
  {
   "cell_type": "markdown",
   "metadata": {},
   "source": [
    "### Choosing a nonparametric test\n",
    "\n",
    "Non-parametric tests don’t make as many assumptions about the data, and are useful when one or more of the common statistical assumptions are violated. However, the inferences they make aren’t as strong as with parametric tests."
   ]
  },
  {
   "cell_type": "markdown",
   "metadata": {},
   "source": [
    "<img src=\"Non_parametric_tests.PNG\" width=\"800\" height=\"800\">"
   ]
  },
  {
   "cell_type": "markdown",
   "metadata": {},
   "source": [
    "### Flowchart: choosing a statistical test"
   ]
  },
  {
   "cell_type": "markdown",
   "metadata": {},
   "source": [
    "This flowchart helps you choose among parametric tests. For nonparametric alternatives, check the table above.\n",
    "\n",
    "<img src=\"flowchart-for-choosing-a-statistical-test.png\" width=\"500\" height=\"500\">"
   ]
  },
  {
   "cell_type": "markdown",
   "metadata": {},
   "source": [
    "### Errors in Hypothesis Testing\n",
    "\n",
    "### Type I & Type II Errors"
   ]
  },
  {
   "cell_type": "markdown",
   "metadata": {},
   "source": [
    "In statistics, a Type I error is a false positive conclusion, while a Type II error is a false negative conclusion.\n",
    "\n",
    "Making a statistical decision always involves uncertainties, so the risks of making these errors are unavoidable in hypothesis testing.\n",
    "\n",
    "\n",
    "Example: Type I vs Type II error\n",
    "\n",
    "You decide to get tested for COVID-19 based on mild symptoms. There are two errors that could potentially occur:\n",
    "\n",
    "    Type I error (false positive): the test result says you have coronavirus, but you actually don’t.\n",
    "\n",
    "    Type II error (false negative): the test result says you don’t have coronavirus, but you actually do."
   ]
  },
  {
   "cell_type": "markdown",
   "metadata": {},
   "source": [
    "### Type I error\n",
    "\n",
    "A Type I error means rejecting the null hypothesis when it’s actually true. It means concluding that results are statistically significant when, in reality, they came about purely by chance or because of unrelated factors.\n",
    "\n",
    "The risk of committing this error is the significance level (alpha or α) you choose. That’s a value that you set at the beginning of your study to assess the statistical probability of obtaining your results (p value).\n",
    "\n",
    "The significance level is usually set at 0.05 or 5%. This means that your results only have a 5% chance of occurring, or less, if the null hypothesis is actually true.\n",
    "\n",
    "If the p value of your test is lower than the significance level, it means your results are statistically significant and consistent with the alternative hypothesis. If your p value is higher than the significance level, then your results are considered statistically non-significant."
   ]
  },
  {
   "cell_type": "markdown",
   "metadata": {},
   "source": [
    "### Type I error rate\n",
    "\n",
    "The null hypothesis distribution curve below shows the probabilities of obtaining all possible results if the study were repeated with new samples and the null hypothesis were true in the population.\n",
    "\n",
    "At the tail end, the shaded area represents alpha. It’s also called a critical region in statistics.\n",
    "\n",
    "If your results fall in the critical region of this curve, they are considered statistically significant and the null hypothesis is rejected. However, this is a false positive conclusion, because the null hypothesis is actually true in this case!"
   ]
  },
  {
   "cell_type": "markdown",
   "metadata": {},
   "source": [
    "<img src=\"type-i-error-rate-768x432.png\" width=\"600\" height=\"600\">"
   ]
  },
  {
   "cell_type": "markdown",
   "metadata": {},
   "source": [
    "### Example: Statistical significance and Type I error\n",
    "    \n",
    "In your clinical study, you compare the symptoms of patients who received the new drug intervention or a control treatment. Using a t test, you obtain a p value of .035. This p value is lower than your alpha of .05, so you consider your results statistically significant and reject the null hypothesis.\n",
    "\n",
    "However, the p value means that there is a 3.5% chance of your results occurring if the null hypothesis is true. Therefore, there is still a risk of making a Type I error.\n",
    "\n",
    "To reduce the Type I error probability, you can simply set a lower significance level."
   ]
  },
  {
   "cell_type": "markdown",
   "metadata": {},
   "source": [
    "### Type II error\n",
    "\n",
    "A Type II error means not rejecting the null hypothesis when it’s actually false. This is not quite the same as “accepting” the null hypothesis, because hypothesis testing can only tell you whether to reject the null hypothesis.\n",
    "\n",
    "Instead, a Type II error means failing to conclude there was an effect when there actually was. In reality, your study may not have had enough statistical power to detect an effect of a certain size.\n",
    "\n",
    "Power is the extent to which a test can correctly detect a real effect when there is one. A power level of 80% or higher is usually considered acceptable.\n",
    "\n",
    "The risk of a Type II error is inversely related to the statistical power of a study. The higher the statistical power, the lower the probability of making a Type II error."
   ]
  },
  {
   "cell_type": "markdown",
   "metadata": {},
   "source": [
    "### Type II error rate\n",
    "\n",
    "The alternative hypothesis distribution curve below shows the probabilities of obtaining all possible results if the study were repeated with new samples and the alternative hypothesis were true in the population.\n",
    "\n",
    "The Type II error rate is beta (β), represented by the shaded area on the left side. The remaining area under the curve represents statistical power, which is (1 – β).\n",
    "\n",
    "Increasing the statistical power of your test directly decreases the risk of making a Type II error."
   ]
  },
  {
   "cell_type": "markdown",
   "metadata": {},
   "source": [
    "<img src=\"type-ii-error-rate-768x432.png\" width=\"600\" height=\"600\">"
   ]
  },
  {
   "cell_type": "markdown",
   "metadata": {},
   "source": [
    "### Example: Statistical power and Type II error\n",
    "    \n",
    "When preparing your clinical study, you complete a power analysis and determine that with your sample size, you have an 80% chance of detecting an effect size of 20% or greater. An effect size of 20% means that the drug intervention reduces symptoms by 20% more than the control treatment.\n",
    "\n",
    "However, a Type II may occur if an effect that’s smaller than this size. A smaller effect size is unlikely to be detected in your study due to inadequate statistical power.\n",
    "\n",
    "Statistical power is determined by:\n",
    "\n",
    "Size of the effect: Larger effects are more easily detected.\n",
    "\n",
    "Measurement error: Systematic and random errors in recorded data reduce power.\n",
    "\n",
    "Sample size: Larger samples reduce sampling error and increase power.\n",
    "\n",
    "Significance level: Increasing the significance level increases power.\n",
    "\n",
    "To (indirectly) reduce the risk of a Type II error, you can increase the sample size or the significance level."
   ]
  },
  {
   "cell_type": "markdown",
   "metadata": {},
   "source": [
    "### Trade-off between Type I and Type II errors\n",
    "\n",
    "The Type I and Type II error rates influence each other. That’s because the significance level (the Type I error rate) affects statistical power, which is inversely related to the Type II error rate.\n",
    "\n",
    "This means there’s an important tradeoff between Type I and Type II errors:\n",
    "\n",
    "Setting a lower significance level decreases a Type I error risk, but increases a Type II error risk.\n",
    "Increasing the power of a test decreases a Type II error risk, but increases a Type I error risk.\n",
    "This trade-off is visualized in the graph below. It shows two curves:\n",
    "\n",
    "The null hypothesis distribution shows all possible results you’d obtain if the null hypothesis is true. The correct conclusion for any point on this distribution means not rejecting the null hypothesis.\n",
    "\n",
    "The alternative hypothesis distribution shows all possible results you’d obtain if the alternative hypothesis is true. The correct conclusion for any point on this distribution means rejecting the null hypothesis.\n",
    "\n",
    "Type I and Type II errors occur where these two distributions overlap. The blue shaded area represents alpha, the Type I error rate, and the green shaded area represents beta, the Type II error rate.\n",
    "\n",
    "By setting the Type I error rate, you indirectly influence the size of the Type II error rate as well.\n",
    "\n",
    "<img src=\"type-i-and-type-ii-error-768x432.png\" width=\"600\" height=\"600\">\n",
    "\n",
    "It’s important to strike a balance between the risks of making Type I and Type II errors. Reducing the alpha always comes at the cost of increasing beta, and vice versa."
   ]
  },
  {
   "cell_type": "markdown",
   "metadata": {},
   "source": [
    "### Hypothesis Testing on Titanic Dataset"
   ]
  },
  {
   "cell_type": "code",
   "execution_count": 1,
   "metadata": {},
   "outputs": [],
   "source": [
    "import pandas as pd\n",
    "import seaborn as sns\n",
    "from matplotlib import pyplot as plt\n",
    "\n",
    "#path = 'P2NumPy_Pandas/Project/'\n",
    "titanic_df = pd.read_csv('titanic-data.csv')"
   ]
  },
  {
   "cell_type": "code",
   "execution_count": 2,
   "metadata": {},
   "outputs": [
    {
     "data": {
      "text/html": [
       "<div>\n",
       "<style scoped>\n",
       "    .dataframe tbody tr th:only-of-type {\n",
       "        vertical-align: middle;\n",
       "    }\n",
       "\n",
       "    .dataframe tbody tr th {\n",
       "        vertical-align: top;\n",
       "    }\n",
       "\n",
       "    .dataframe thead th {\n",
       "        text-align: right;\n",
       "    }\n",
       "</style>\n",
       "<table border=\"1\" class=\"dataframe\">\n",
       "  <thead>\n",
       "    <tr style=\"text-align: right;\">\n",
       "      <th></th>\n",
       "      <th>PassengerId</th>\n",
       "      <th>Survived</th>\n",
       "      <th>Pclass</th>\n",
       "      <th>Name</th>\n",
       "      <th>Sex</th>\n",
       "      <th>Age</th>\n",
       "      <th>SibSp</th>\n",
       "      <th>Parch</th>\n",
       "      <th>Ticket</th>\n",
       "      <th>Fare</th>\n",
       "      <th>Cabin</th>\n",
       "      <th>Embarked</th>\n",
       "    </tr>\n",
       "  </thead>\n",
       "  <tbody>\n",
       "    <tr>\n",
       "      <th>0</th>\n",
       "      <td>1</td>\n",
       "      <td>0</td>\n",
       "      <td>3</td>\n",
       "      <td>Braund, Mr. Owen Harris</td>\n",
       "      <td>male</td>\n",
       "      <td>22.0</td>\n",
       "      <td>1</td>\n",
       "      <td>0</td>\n",
       "      <td>A/5 21171</td>\n",
       "      <td>7.2500</td>\n",
       "      <td>NaN</td>\n",
       "      <td>S</td>\n",
       "    </tr>\n",
       "    <tr>\n",
       "      <th>1</th>\n",
       "      <td>2</td>\n",
       "      <td>1</td>\n",
       "      <td>1</td>\n",
       "      <td>Cumings, Mrs. John Bradley (Florence Briggs Th...</td>\n",
       "      <td>female</td>\n",
       "      <td>38.0</td>\n",
       "      <td>1</td>\n",
       "      <td>0</td>\n",
       "      <td>PC 17599</td>\n",
       "      <td>71.2833</td>\n",
       "      <td>C85</td>\n",
       "      <td>C</td>\n",
       "    </tr>\n",
       "    <tr>\n",
       "      <th>2</th>\n",
       "      <td>3</td>\n",
       "      <td>1</td>\n",
       "      <td>3</td>\n",
       "      <td>Heikkinen, Miss. Laina</td>\n",
       "      <td>female</td>\n",
       "      <td>26.0</td>\n",
       "      <td>0</td>\n",
       "      <td>0</td>\n",
       "      <td>STON/O2. 3101282</td>\n",
       "      <td>7.9250</td>\n",
       "      <td>NaN</td>\n",
       "      <td>S</td>\n",
       "    </tr>\n",
       "    <tr>\n",
       "      <th>3</th>\n",
       "      <td>4</td>\n",
       "      <td>1</td>\n",
       "      <td>1</td>\n",
       "      <td>Futrelle, Mrs. Jacques Heath (Lily May Peel)</td>\n",
       "      <td>female</td>\n",
       "      <td>35.0</td>\n",
       "      <td>1</td>\n",
       "      <td>0</td>\n",
       "      <td>113803</td>\n",
       "      <td>53.1000</td>\n",
       "      <td>C123</td>\n",
       "      <td>S</td>\n",
       "    </tr>\n",
       "    <tr>\n",
       "      <th>4</th>\n",
       "      <td>5</td>\n",
       "      <td>0</td>\n",
       "      <td>3</td>\n",
       "      <td>Allen, Mr. William Henry</td>\n",
       "      <td>male</td>\n",
       "      <td>35.0</td>\n",
       "      <td>0</td>\n",
       "      <td>0</td>\n",
       "      <td>373450</td>\n",
       "      <td>8.0500</td>\n",
       "      <td>NaN</td>\n",
       "      <td>S</td>\n",
       "    </tr>\n",
       "  </tbody>\n",
       "</table>\n",
       "</div>"
      ],
      "text/plain": [
       "   PassengerId  Survived  Pclass  \\\n",
       "0            1         0       3   \n",
       "1            2         1       1   \n",
       "2            3         1       3   \n",
       "3            4         1       1   \n",
       "4            5         0       3   \n",
       "\n",
       "                                                Name     Sex   Age  SibSp  \\\n",
       "0                            Braund, Mr. Owen Harris    male  22.0      1   \n",
       "1  Cumings, Mrs. John Bradley (Florence Briggs Th...  female  38.0      1   \n",
       "2                             Heikkinen, Miss. Laina  female  26.0      0   \n",
       "3       Futrelle, Mrs. Jacques Heath (Lily May Peel)  female  35.0      1   \n",
       "4                           Allen, Mr. William Henry    male  35.0      0   \n",
       "\n",
       "   Parch            Ticket     Fare Cabin Embarked  \n",
       "0      0         A/5 21171   7.2500   NaN        S  \n",
       "1      0          PC 17599  71.2833   C85        C  \n",
       "2      0  STON/O2. 3101282   7.9250   NaN        S  \n",
       "3      0            113803  53.1000  C123        S  \n",
       "4      0            373450   8.0500   NaN        S  "
      ]
     },
     "execution_count": 2,
     "metadata": {},
     "output_type": "execute_result"
    }
   ],
   "source": [
    "titanic_df.head()"
   ]
  },
  {
   "cell_type": "markdown",
   "metadata": {},
   "source": [
    "Columns containing missing attributes: Age, Cabin, Embarked\n",
    "\n",
    "    No of Missing counts for each column\n",
    "\n",
    "    Age : 177 values\n",
    "    Cabin : 687 values\n",
    "    Embarked : 2 values\n",
    "\n",
    "The Columns with missing values were not used for any statistical test or visulizations, so chose to ignore the missing values.\n",
    "\n",
    "In case if i were to fill the missing values in the future for calculations below would be used."
   ]
  },
  {
   "cell_type": "code",
   "execution_count": 3,
   "metadata": {},
   "outputs": [
    {
     "name": "stdout",
     "output_type": "stream",
     "text": [
      "\n",
      "Dataframe Rows:714 - Columns:12\n",
      "\n"
     ]
    },
    {
     "data": {
      "text/html": [
       "<div>\n",
       "<style scoped>\n",
       "    .dataframe tbody tr th:only-of-type {\n",
       "        vertical-align: middle;\n",
       "    }\n",
       "\n",
       "    .dataframe tbody tr th {\n",
       "        vertical-align: top;\n",
       "    }\n",
       "\n",
       "    .dataframe thead th {\n",
       "        text-align: right;\n",
       "    }\n",
       "</style>\n",
       "<table border=\"1\" class=\"dataframe\">\n",
       "  <thead>\n",
       "    <tr style=\"text-align: right;\">\n",
       "      <th></th>\n",
       "      <th>PassengerId</th>\n",
       "      <th>Survived</th>\n",
       "      <th>Pclass</th>\n",
       "      <th>Name</th>\n",
       "      <th>Sex</th>\n",
       "      <th>Age</th>\n",
       "      <th>SibSp</th>\n",
       "      <th>Parch</th>\n",
       "      <th>Ticket</th>\n",
       "      <th>Fare</th>\n",
       "      <th>Cabin</th>\n",
       "      <th>Embarked</th>\n",
       "    </tr>\n",
       "  </thead>\n",
       "  <tbody>\n",
       "    <tr>\n",
       "      <th>0</th>\n",
       "      <td>1</td>\n",
       "      <td>0</td>\n",
       "      <td>3</td>\n",
       "      <td>Braund, Mr. Owen Harris</td>\n",
       "      <td>male</td>\n",
       "      <td>22.0</td>\n",
       "      <td>1</td>\n",
       "      <td>0</td>\n",
       "      <td>A/5 21171</td>\n",
       "      <td>7.2500</td>\n",
       "      <td>NaN</td>\n",
       "      <td>S</td>\n",
       "    </tr>\n",
       "    <tr>\n",
       "      <th>1</th>\n",
       "      <td>2</td>\n",
       "      <td>1</td>\n",
       "      <td>1</td>\n",
       "      <td>Cumings, Mrs. John Bradley (Florence Briggs Th...</td>\n",
       "      <td>female</td>\n",
       "      <td>38.0</td>\n",
       "      <td>1</td>\n",
       "      <td>0</td>\n",
       "      <td>PC 17599</td>\n",
       "      <td>71.2833</td>\n",
       "      <td>C85</td>\n",
       "      <td>C</td>\n",
       "    </tr>\n",
       "    <tr>\n",
       "      <th>2</th>\n",
       "      <td>3</td>\n",
       "      <td>1</td>\n",
       "      <td>3</td>\n",
       "      <td>Heikkinen, Miss. Laina</td>\n",
       "      <td>female</td>\n",
       "      <td>26.0</td>\n",
       "      <td>0</td>\n",
       "      <td>0</td>\n",
       "      <td>STON/O2. 3101282</td>\n",
       "      <td>7.9250</td>\n",
       "      <td>NaN</td>\n",
       "      <td>S</td>\n",
       "    </tr>\n",
       "    <tr>\n",
       "      <th>3</th>\n",
       "      <td>4</td>\n",
       "      <td>1</td>\n",
       "      <td>1</td>\n",
       "      <td>Futrelle, Mrs. Jacques Heath (Lily May Peel)</td>\n",
       "      <td>female</td>\n",
       "      <td>35.0</td>\n",
       "      <td>1</td>\n",
       "      <td>0</td>\n",
       "      <td>113803</td>\n",
       "      <td>53.1000</td>\n",
       "      <td>C123</td>\n",
       "      <td>S</td>\n",
       "    </tr>\n",
       "    <tr>\n",
       "      <th>4</th>\n",
       "      <td>5</td>\n",
       "      <td>0</td>\n",
       "      <td>3</td>\n",
       "      <td>Allen, Mr. William Henry</td>\n",
       "      <td>male</td>\n",
       "      <td>35.0</td>\n",
       "      <td>0</td>\n",
       "      <td>0</td>\n",
       "      <td>373450</td>\n",
       "      <td>8.0500</td>\n",
       "      <td>NaN</td>\n",
       "      <td>S</td>\n",
       "    </tr>\n",
       "  </tbody>\n",
       "</table>\n",
       "</div>"
      ],
      "text/plain": [
       "   PassengerId  Survived  Pclass  \\\n",
       "0            1         0       3   \n",
       "1            2         1       1   \n",
       "2            3         1       3   \n",
       "3            4         1       1   \n",
       "4            5         0       3   \n",
       "\n",
       "                                                Name     Sex   Age  SibSp  \\\n",
       "0                            Braund, Mr. Owen Harris    male  22.0      1   \n",
       "1  Cumings, Mrs. John Bradley (Florence Briggs Th...  female  38.0      1   \n",
       "2                             Heikkinen, Miss. Laina  female  26.0      0   \n",
       "3       Futrelle, Mrs. Jacques Heath (Lily May Peel)  female  35.0      1   \n",
       "4                           Allen, Mr. William Henry    male  35.0      0   \n",
       "\n",
       "   Parch            Ticket     Fare Cabin Embarked  \n",
       "0      0         A/5 21171   7.2500   NaN        S  \n",
       "1      0          PC 17599  71.2833   C85        C  \n",
       "2      0  STON/O2. 3101282   7.9250   NaN        S  \n",
       "3      0            113803  53.1000  C123        S  \n",
       "4      0            373450   8.0500   NaN        S  "
      ]
     },
     "execution_count": 3,
     "metadata": {},
     "output_type": "execute_result"
    }
   ],
   "source": [
    "#titanic_df['Age'] = titanic_df['Age'].fillna(0)#oneway of handling the missing values, but affects distribution\n",
    "#Above effect can be seen in the input window #32\n",
    "\n",
    "#handling the missing age by removing the records which has missing age. \n",
    "\n",
    "titanic_df_modified = titanic_df.loc[titanic_df['Age'].isnull() == False]\n",
    "\n",
    "#Deciding to leave the values of cabin and embarked as NaN\n",
    "\n",
    "shape = titanic_df_modified.shape\n",
    "\n",
    "print ('\\nDataframe Rows:{} - Columns:{}\\n'.format(shape[0],shape[1]) )\n",
    "\n",
    "titanic_df_modified.head(5) #this one returns only 714 rows with records having proper age values. "
   ]
  },
  {
   "cell_type": "markdown",
   "metadata": {},
   "source": [
    "### Dataset Limitations\n",
    "\n",
    "\n",
    "    1.The data set has very limited number of columns, and many of them do not provide significant information.\n",
    "    2.Missing values - Almost all of Cabin information is missing and abundant of Age information is missing.\n",
    "    3.Not able to estimate a similar population for such disaster cases.\n",
    "    4.Since the data set is collected from the people who survived and more people from first class, it does not really provide the clear picture on limitations and failures in the evacuation process.So the data is partly affected by 'Survivorship Bias'\n",
    "    5.The absence of the survival data from crew also strengthens above limitation.\n",
    "\n",
    "The presence of escape information like life boat# used to get away, the inclusion of crew, cause of death would have helped analyze the gravity of the situation bit more."
   ]
  },
  {
   "cell_type": "markdown",
   "metadata": {},
   "source": [
    "### Question# 1. Did passenger class have any effect on the survival rate.?\n",
    "\n",
    "### Hypothesis Testing\n",
    "\n",
    "Type of Test : Chi Square test of Independence (for categorical variable)\n",
    "\n",
    "    Null Hypothesis: Survival rate is independant to passenger class. (Survival rate is not dependent tpo passenger class)\n",
    "    Alternate Hypothesis: Survival rate is dependant on the class of the passenger.\n",
    "    Significance level (α) = 0.05\n",
    "    degreesofFreedom = 2\n",
    "    chicritical = 5.99 (for 0.05 significance)"
   ]
  },
  {
   "cell_type": "code",
   "execution_count": 4,
   "metadata": {},
   "outputs": [
    {
     "name": "stderr",
     "output_type": "stream",
     "text": [
      "C:\\Users\\ADMIN\\AppData\\Roaming\\Python\\Python37\\site-packages\\seaborn\\_decorators.py:43: FutureWarning: Pass the following variable as a keyword arg: x. From version 0.12, the only valid positional argument will be `data`, and passing other arguments without an explicit keyword will result in an error or misinterpretation.\n",
      "  FutureWarning\n",
      "C:\\Users\\ADMIN\\AppData\\Roaming\\Python\\Python37\\site-packages\\seaborn\\_decorators.py:43: FutureWarning: Pass the following variable as a keyword arg: x. From version 0.12, the only valid positional argument will be `data`, and passing other arguments without an explicit keyword will result in an error or misinterpretation.\n",
      "  FutureWarning\n"
     ]
    },
    {
     "data": {
      "image/png": "[encoded data removed]",
      "text/plain": [
       "<Figure size 720x180 with 2 Axes>"
      ]
     },
     "metadata": {
      "needs_background": "light"
     },
     "output_type": "display_data"
    }
   ],
   "source": [
    "plt.figure(figsize=(10,2.5))\n",
    "\n",
    "plt.subplot(121)\n",
    "sns.countplot(titanic_df_modified.Pclass)\n",
    "plt.title(\"Passenger Class\")\n",
    "\n",
    "plt.subplot(122)\n",
    "sns.countplot(titanic_df_modified.Survived)\n",
    "plt.title(\"Survived or not\")\n",
    "\n",
    "plt.show()"
   ]
  },
  {
   "cell_type": "code",
   "execution_count": 5,
   "metadata": {},
   "outputs": [
    {
     "data": {
      "text/html": [
       "<div>\n",
       "<style scoped>\n",
       "    .dataframe tbody tr th:only-of-type {\n",
       "        vertical-align: middle;\n",
       "    }\n",
       "\n",
       "    .dataframe tbody tr th {\n",
       "        vertical-align: top;\n",
       "    }\n",
       "\n",
       "    .dataframe thead th {\n",
       "        text-align: right;\n",
       "    }\n",
       "</style>\n",
       "<table border=\"1\" class=\"dataframe\">\n",
       "  <thead>\n",
       "    <tr style=\"text-align: right;\">\n",
       "      <th>Survived</th>\n",
       "      <th>0</th>\n",
       "      <th>1</th>\n",
       "    </tr>\n",
       "    <tr>\n",
       "      <th>Pclass</th>\n",
       "      <th></th>\n",
       "      <th></th>\n",
       "    </tr>\n",
       "  </thead>\n",
       "  <tbody>\n",
       "    <tr>\n",
       "      <th>1</th>\n",
       "      <td>64</td>\n",
       "      <td>122</td>\n",
       "    </tr>\n",
       "    <tr>\n",
       "      <th>2</th>\n",
       "      <td>90</td>\n",
       "      <td>83</td>\n",
       "    </tr>\n",
       "    <tr>\n",
       "      <th>3</th>\n",
       "      <td>270</td>\n",
       "      <td>85</td>\n",
       "    </tr>\n",
       "  </tbody>\n",
       "</table>\n",
       "</div>"
      ],
      "text/plain": [
       "Survived    0    1\n",
       "Pclass            \n",
       "1          64  122\n",
       "2          90   83\n",
       "3         270   85"
      ]
     },
     "execution_count": 5,
     "metadata": {},
     "output_type": "execute_result"
    }
   ],
   "source": [
    "PClass_survd = pd.pivot_table(titanic_df_modified,index=['Pclass'],columns=['Survived'],aggfunc='size')\n",
    "PClass_survd"
   ]
  },
  {
   "cell_type": "code",
   "execution_count": 6,
   "metadata": {},
   "outputs": [
    {
     "data": {
      "image/png": "[encoded data removed]",
      "text/plain": [
       "<Figure size 432x288 with 2 Axes>"
      ]
     },
     "metadata": {
      "needs_background": "light"
     },
     "output_type": "display_data"
    }
   ],
   "source": [
    "sns.heatmap(PClass_survd,annot=True, fmt='g',square=True,cmap='hot')\n",
    "plt.title('Class Vs Survived',fontsize=20)\n",
    "plt.show()"
   ]
  },
  {
   "cell_type": "markdown",
   "metadata": {},
   "source": [
    "891 data are present in the data. Most of the people in 3rd class died while most of the people in 1st class survived. In order to see whether there is a bias in the data, we can do chi square test with an assumption that there is no biase between the columns. We can also do Chi_square test directly from the contigency table (You can find it in next session)."
   ]
  },
  {
   "cell_type": "code",
   "execution_count": 7,
   "metadata": {},
   "outputs": [
    {
     "data": {
      "text/plain": [
       "Pclass\n",
       "1    0.208754\n",
       "2    0.194164\n",
       "3    0.398429\n",
       "dtype: float64"
      ]
     },
     "execution_count": 7,
     "metadata": {},
     "output_type": "execute_result"
    }
   ],
   "source": [
    "pct_class = PClass_survd.sum(axis=1)/891\n",
    "pct_class"
   ]
  },
  {
   "cell_type": "code",
   "execution_count": 8,
   "metadata": {},
   "outputs": [
    {
     "data": {
      "text/plain": [
       "Survived\n",
       "0    0.475870\n",
       "1    0.325477\n",
       "dtype: float64"
      ]
     },
     "execution_count": 8,
     "metadata": {},
     "output_type": "execute_result"
    }
   ],
   "source": [
    "pct_survived = PClass_survd.sum(axis=0)/891\n",
    "pct_survived"
   ]
  },
  {
   "cell_type": "markdown",
   "metadata": {},
   "source": [
    "Survived\n",
    "0    0.616162\n",
    "1    0.383838\n",
    "dtype: float64\n",
    "we see that there is 24% of total passengers in Class 1, 20.65% of total passengers in Class 2 and remaining 55.11% in Class 3.\n",
    "\n",
    "Also 61.62% of total passeneger survived.\n",
    "\n",
    "If we have null hypothesis as 'The Survival does not depend on the Class the passengers were travelling', then we expect the distribution to be have similar proportions in all columns. Thats same proportion of people in all classes survived.\n",
    "\n",
    "So the expected will be a product of pct_class, pct_survived and total_passengers."
   ]
  },
  {
   "cell_type": "code",
   "execution_count": 9,
   "metadata": {},
   "outputs": [
    {
     "data": {
      "text/html": [
       "<div>\n",
       "<style scoped>\n",
       "    .dataframe tbody tr th:only-of-type {\n",
       "        vertical-align: middle;\n",
       "    }\n",
       "\n",
       "    .dataframe tbody tr th {\n",
       "        vertical-align: top;\n",
       "    }\n",
       "\n",
       "    .dataframe thead th {\n",
       "        text-align: right;\n",
       "    }\n",
       "</style>\n",
       "<table border=\"1\" class=\"dataframe\">\n",
       "  <thead>\n",
       "    <tr style=\"text-align: right;\">\n",
       "      <th>Survived</th>\n",
       "      <th>0</th>\n",
       "      <th>1</th>\n",
       "    </tr>\n",
       "    <tr>\n",
       "      <th>Pclass</th>\n",
       "      <th></th>\n",
       "      <th></th>\n",
       "    </tr>\n",
       "  </thead>\n",
       "  <tbody>\n",
       "    <tr>\n",
       "      <th>1</th>\n",
       "      <td>0.099340</td>\n",
       "      <td>0.067945</td>\n",
       "    </tr>\n",
       "    <tr>\n",
       "      <th>2</th>\n",
       "      <td>0.092397</td>\n",
       "      <td>0.063196</td>\n",
       "    </tr>\n",
       "    <tr>\n",
       "      <th>3</th>\n",
       "      <td>0.189600</td>\n",
       "      <td>0.129679</td>\n",
       "    </tr>\n",
       "  </tbody>\n",
       "</table>\n",
       "</div>"
      ],
      "text/plain": [
       "Survived         0         1\n",
       "Pclass                      \n",
       "1         0.099340  0.067945\n",
       "2         0.092397  0.063196\n",
       "3         0.189600  0.129679"
      ]
     },
     "execution_count": 9,
     "metadata": {},
     "output_type": "execute_result"
    }
   ],
   "source": [
    "pct_class.to_frame()@(pct_survived.to_frame().T) \n",
    "# These are the proportion of people expected with null hypothesis"
   ]
  },
  {
   "cell_type": "code",
   "execution_count": 10,
   "metadata": {},
   "outputs": [
    {
     "data": {
      "text/html": [
       "<div>\n",
       "<style scoped>\n",
       "    .dataframe tbody tr th:only-of-type {\n",
       "        vertical-align: middle;\n",
       "    }\n",
       "\n",
       "    .dataframe tbody tr th {\n",
       "        vertical-align: top;\n",
       "    }\n",
       "\n",
       "    .dataframe thead th {\n",
       "        text-align: right;\n",
       "    }\n",
       "</style>\n",
       "<table border=\"1\" class=\"dataframe\">\n",
       "  <thead>\n",
       "    <tr style=\"text-align: right;\">\n",
       "      <th>Survived</th>\n",
       "      <th>0</th>\n",
       "      <th>1</th>\n",
       "    </tr>\n",
       "    <tr>\n",
       "      <th>Pclass</th>\n",
       "      <th></th>\n",
       "      <th></th>\n",
       "    </tr>\n",
       "  </thead>\n",
       "  <tbody>\n",
       "    <tr>\n",
       "      <th>1</th>\n",
       "      <td>89.0</td>\n",
       "      <td>61.0</td>\n",
       "    </tr>\n",
       "    <tr>\n",
       "      <th>2</th>\n",
       "      <td>82.0</td>\n",
       "      <td>56.0</td>\n",
       "    </tr>\n",
       "    <tr>\n",
       "      <th>3</th>\n",
       "      <td>169.0</td>\n",
       "      <td>116.0</td>\n",
       "    </tr>\n",
       "  </tbody>\n",
       "</table>\n",
       "</div>"
      ],
      "text/plain": [
       "Survived      0      1\n",
       "Pclass                \n",
       "1          89.0   61.0\n",
       "2          82.0   56.0\n",
       "3         169.0  116.0"
      ]
     },
     "execution_count": 10,
     "metadata": {},
     "output_type": "execute_result"
    }
   ],
   "source": [
    "exp = round(pct_class.to_frame()@(pct_survived.to_frame().T)*891)\n",
    "exp\n",
    "# This is the number of people in all classes and survival history expected."
   ]
  },
  {
   "cell_type": "code",
   "execution_count": 11,
   "metadata": {},
   "outputs": [
    {
     "name": "stderr",
     "output_type": "stream",
     "text": [
      "C:\\Users\\ADMIN\\anaconda3\\lib\\site-packages\\ipykernel_launcher.py:3: MatplotlibDeprecationWarning: Passing non-integers as three-element position specification is deprecated since 3.3 and will be removed two minor releases later.\n",
      "  This is separate from the ipykernel package so we can avoid doing imports until\n",
      "C:\\Users\\ADMIN\\anaconda3\\lib\\site-packages\\ipykernel_launcher.py:7: MatplotlibDeprecationWarning: Passing non-integers as three-element position specification is deprecated since 3.3 and will be removed two minor releases later.\n",
      "  import sys\n"
     ]
    },
    {
     "data": {
      "image/png": "[encoded data removed]",
      "text/plain": [
       "<Figure size 720x288 with 4 Axes>"
      ]
     },
     "metadata": {
      "needs_background": "light"
     },
     "output_type": "display_data"
    }
   ],
   "source": [
    "plt.figure(figsize=(10,4))\n",
    "\n",
    "plt.subplot('121')\n",
    "sns.heatmap(PClass_survd,annot=True, fmt='g',square=True,cmap='hot')\n",
    "plt.title('Observed',fontsize=20)\n",
    "\n",
    "plt.subplot('122')\n",
    "sns.heatmap(exp,annot=True, fmt='g',square=True,cmap='hot')\n",
    "plt.title('Expected',fontsize=20)\n",
    "plt.tight_layout()\n",
    "\n",
    "\n",
    "plt.show()"
   ]
  },
  {
   "cell_type": "code",
   "execution_count": 12,
   "metadata": {},
   "outputs": [
    {
     "data": {
      "text/html": [
       "<div>\n",
       "<style scoped>\n",
       "    .dataframe tbody tr th:only-of-type {\n",
       "        vertical-align: middle;\n",
       "    }\n",
       "\n",
       "    .dataframe tbody tr th {\n",
       "        vertical-align: top;\n",
       "    }\n",
       "\n",
       "    .dataframe thead th {\n",
       "        text-align: right;\n",
       "    }\n",
       "</style>\n",
       "<table border=\"1\" class=\"dataframe\">\n",
       "  <thead>\n",
       "    <tr style=\"text-align: right;\">\n",
       "      <th>Survived</th>\n",
       "      <th>0</th>\n",
       "      <th>1</th>\n",
       "    </tr>\n",
       "    <tr>\n",
       "      <th>Pclass</th>\n",
       "      <th></th>\n",
       "      <th></th>\n",
       "    </tr>\n",
       "  </thead>\n",
       "  <tbody>\n",
       "    <tr>\n",
       "      <th>1</th>\n",
       "      <td>7.022472</td>\n",
       "      <td>61.000000</td>\n",
       "    </tr>\n",
       "    <tr>\n",
       "      <th>2</th>\n",
       "      <td>0.780488</td>\n",
       "      <td>13.017857</td>\n",
       "    </tr>\n",
       "    <tr>\n",
       "      <th>3</th>\n",
       "      <td>60.360947</td>\n",
       "      <td>8.284483</td>\n",
       "    </tr>\n",
       "  </tbody>\n",
       "</table>\n",
       "</div>"
      ],
      "text/plain": [
       "Survived          0          1\n",
       "Pclass                        \n",
       "1          7.022472  61.000000\n",
       "2          0.780488  13.017857\n",
       "3         60.360947   8.284483"
      ]
     },
     "execution_count": 12,
     "metadata": {},
     "output_type": "execute_result"
    }
   ],
   "source": [
    "Chi_table = ((PClass_survd - exp)**2)/exp\n",
    "Chi_table"
   ]
  },
  {
   "cell_type": "code",
   "execution_count": 13,
   "metadata": {},
   "outputs": [
    {
     "name": "stdout",
     "output_type": "stream",
     "text": [
      "Chi square value is  150.46624636203038\n",
      "P value is 1.3710408468105195e-34\n"
     ]
    }
   ],
   "source": [
    "from scipy.stats.distributions import chi2\n",
    "\n",
    "Chi_value = Chi_table.sum().sum()\n",
    "\n",
    "p_value = chi2.sf(Chi_value,1)\n",
    "\n",
    "print(\"Chi square value is \",Chi_value)\n",
    "print(\"P value is\",p_value)"
   ]
  },
  {
   "cell_type": "markdown",
   "metadata": {},
   "source": [
    "### Chi square test from contigency table"
   ]
  },
  {
   "cell_type": "code",
   "execution_count": 14,
   "metadata": {},
   "outputs": [
    {
     "name": "stdout",
     "output_type": "stream",
     "text": [
      "Chi square value is  92.90141721143321\n",
      "P value is 6.709861749756909e-21\n",
      "Degrees of Freedom: 2\n"
     ]
    }
   ],
   "source": [
    "from scipy import stats\n",
    "chi2_stat, p_val, dof, ex = stats.chi2_contingency(PClass_survd)\n",
    "\n",
    "print(\"Chi square value is \",chi2_stat)\n",
    "print(\"P value is\",p_val)\n",
    "print(\"Degrees of Freedom:\",dof)"
   ]
  },
  {
   "cell_type": "markdown",
   "metadata": {},
   "source": [
    "Here we see that the P value is much less than zero and we can reject the null hypothesis with confidence!\n",
    "\n",
    "So Survival of a passenger is not independent of their class...\n",
    "\n",
    "There is a great dependence.\n",
    "\n",
    "Having made comparisons between two categorical columns. We can use this methodology for feature selection as well.\n",
    "\n",
    "\"If null hypothesis cannot be rejected for a categorical column on chi square test with target, then target is independent of the paticular column and can be rejected!\""
   ]
  },
  {
   "cell_type": "code",
   "execution_count": 15,
   "metadata": {},
   "outputs": [
    {
     "name": "stdout",
     "output_type": "stream",
     "text": [
      "Populating the interactive namespace from numpy and matplotlib\n"
     ]
    },
    {
     "name": "stderr",
     "output_type": "stream",
     "text": [
      "C:\\Users\\ADMIN\\anaconda3\\lib\\site-packages\\IPython\\core\\magics\\pylab.py:160: UserWarning: pylab import has clobbered these variables: ['exp', 'shape']\n",
      "`%matplotlib` prevents importing * from pylab and numpy\n",
      "  \"\\n`%matplotlib` prevents importing * from pylab and numpy\"\n"
     ]
    },
    {
     "data": {
      "image/png": "[encoded data removed]",
      "text/plain": [
       "<Figure size 432x288 with 1 Axes>"
      ]
     },
     "metadata": {
      "needs_background": "light"
     },
     "output_type": "display_data"
    }
   ],
   "source": [
    "%pylab inline\n",
    "\n",
    "#Did class have an effect on Survival rate.?\n",
    "\n",
    "#splitting the data frame based on the class\n",
    "first_df = titanic_df.loc[titanic_df.Pclass == 1]\n",
    "second_df = titanic_df.loc[titanic_df.Pclass == 2]\n",
    "third_df = titanic_df.loc[titanic_df.Pclass == 3]\n",
    "\n",
    "group_by_first = first_df.groupby('Survived', as_index = False).count()\n",
    "group_by_second = second_df.groupby('Survived',as_index = False).count()\n",
    "group_by_third = third_df.groupby('Survived',as_index = False).count()\n",
    "\n",
    "bar_width = 0.35\n",
    "\n",
    "plt.bar([0.5, 1.75],group_by_first['PassengerId'],bar_width, color = '#f48642',label = 'First Class' )\n",
    "\n",
    "plt.bar([0.5 + bar_width, 1.75 + bar_width], group_by_second['PassengerId'], bar_width, color = 'green',\n",
    "        label = 'Second Class')\n",
    "#plt.xticks(group_by_first['Survived']  + 0.5, labels, legend = 'Second Class')\n",
    "\n",
    "plt.bar([0.85 + bar_width, 1.75 + 2* bar_width], group_by_third['PassengerId'], bar_width, color = '#42f4aa',\n",
    "       label = 'Third Class')\n",
    "#plt.xticks(group_by_first['Survived']  + 0.5, labels)\n",
    "\n",
    "labels_s = ['Not Survived', 'Survived']\n",
    "\n",
    "plt.xticks(group_by_first['Survived'] + 1, labels_s)\n",
    "\n",
    "plt.xlabel('Survived or Not')\n",
    "plt.ylabel('# of Survivors')\n",
    "plt.title(\"Survival rate by class\")\n",
    "plt.legend()\n",
    "plt.show()"
   ]
  },
  {
   "cell_type": "markdown",
   "metadata": {},
   "source": [
    "### Conclusion:\n",
    "    \n",
    "Based on the test performed and the visualization we could conclude that passenger class had an effect on whether a passenger survived or not due to the extremenly low probability for such a large chi square value.\n",
    "\n",
    "Hence, We reject the Null hypothesis.\n",
    "The dependency observed could be because of following reasons,\n",
    "\n",
    "    1.Simply more Life boats were made availble for the wealthy in the ship\n",
    "    2.It is possible the wealthy had dedicated chaporones who could have helped them get to the safety.\n",
    "    3.The First class passengers could have bribed to get on the life boats."
   ]
  },
  {
   "cell_type": "markdown",
   "metadata": {},
   "source": [
    "### Question # 2 : Did gender have any effect on the survival of a passenger.?\n",
    "\n",
    "### Hypothesis Testing\n",
    "\n",
    "Type of Test : Chi Square test of Independence (for categorical variable)\n",
    "\n",
    "    1.Null Hypothesis: Survival rate is independant to Sex of a passenger.\n",
    "    2.Alternate Hypothesis: Survival rate is dependant on the Sex of a passenger.\n",
    "    \n",
    "    3.Significance level (α) = 0.05\n",
    "    4.degreesofFreedom = 1\n",
    "    5.chicritical = 3.841 (for 0.05 significance)"
   ]
  },
  {
   "cell_type": "code",
   "execution_count": 16,
   "metadata": {},
   "outputs": [
    {
     "name": "stdout",
     "output_type": "stream",
     "text": [
      "Contigency table: \n",
      "Sex       female  male\n",
      "Survived              \n",
      "0             81   468\n",
      "1            233   109\n",
      "\n",
      "Chi-Squared value: 260.71702016732104\n",
      "Probability for such a large value: 1.1973570627755645e-58\n",
      "\n"
     ]
    }
   ],
   "source": [
    "#Implementing this using existing python library functions\n",
    "from scipy.stats import chi2_contingency\n",
    "\n",
    "groupedby_genderval = titanic_df.groupby('Survived')['Sex'].value_counts()\n",
    "\n",
    "pivot_cont = pd.pivot_table(titanic_df[['Survived', 'Sex']], index = ['Survived'],columns = 'Sex', aggfunc = len)\n",
    "\n",
    "print('Contigency table: \\n{}\\n'.format(pivot_cont))\n",
    "\n",
    "pivot_cont_class = pd.pivot_table(titanic_df[['Survived', 'Pclass']], index = ['Survived'],columns = 'Pclass', aggfunc = len)\n",
    "\n",
    "chi2, pval, dof, expected = chi2_contingency(pivot_cont)\n",
    "\n",
    "print('Chi-Squared value: {}'.format(chi2))\n",
    "\n",
    "print('Probability for such a large value: {}\\n'.format(pval))"
   ]
  },
  {
   "cell_type": "markdown",
   "metadata": {},
   "source": [
    "### Inferences:\n",
    "    \n",
    "### Chi Square test Results:\n",
    "    \n",
    "Chi Square test for independence(α=0.05)\n",
    "\n",
    "X*2(1,N = 891) = 260.71, p < 1e^-58"
   ]
  },
  {
   "cell_type": "code",
   "execution_count": 17,
   "metadata": {},
   "outputs": [
    {
     "name": "stdout",
     "output_type": "stream",
     "text": [
      "Populating the interactive namespace from numpy and matplotlib\n"
     ]
    },
    {
     "data": {
      "image/png": "[encoded data removed]",
      "text/plain": [
       "<Figure size 432x288 with 1 Axes>"
      ]
     },
     "metadata": {
      "needs_background": "light"
     },
     "output_type": "display_data"
    }
   ],
   "source": [
    "#Data visualization for effect of Sex on Survival rate:\n",
    "\n",
    "survived_df = titanic_df.loc[titanic_df['Survived'] == 1]\n",
    "not_survived_df = titanic_df.loc[titanic_df['Survived'] == 0]\n",
    "\n",
    "gender_survival = survived_df.groupby('Sex', as_index = False).count()\n",
    "gender_nsurvival = not_survived_df.groupby('Sex', as_index = False).count()\n",
    "\n",
    "%pylab inline\n",
    "\n",
    "labels = ['Female', 'Male', 'Female', 'Male']\n",
    "label_y = ['Survived', 'Non Survived']\n",
    "\n",
    "plt.bar([0.7, 1.05], gender_survival['Survived'], \n",
    "        bar_width, color = '#f4ad42' , label = 'Survived')\n",
    "\n",
    "plt.bar([0.85 + 2*bar_width, 0.85 + 3*bar_width], \n",
    "        gender_nsurvival['Survived'], bar_width, color = 'purple',label = 'Non Survived')\n",
    "\n",
    "plt.xticks([0.85,1.2,1.8,2.1], labels)\n",
    "plt.legend(loc = 'upper left')\n",
    "plt.xlabel('Gender Classification')\n",
    "plt.ylabel('# of Survivors')\n",
    "plt.title('Survival rate by Gender')\n",
    "plt.show()"
   ]
  },
  {
   "cell_type": "markdown",
   "metadata": {},
   "source": [
    "### Conclusion:\n",
    "    \n",
    "Based on the independency test and data visualization we can see a significant effect of Sex on Survival rate.\n",
    "\n",
    "Hence rejecting the null hypothesis."
   ]
  },
  {
   "cell_type": "markdown",
   "metadata": {},
   "source": [
    "### Question # 3 Did having sibling had any effect on the survival.?"
   ]
  },
  {
   "cell_type": "code",
   "execution_count": 18,
   "metadata": {},
   "outputs": [
    {
     "data": {
      "text/plain": [
       "<matplotlib.legend.Legend at 0x26f8f98d308>"
      ]
     },
     "execution_count": 18,
     "metadata": {},
     "output_type": "execute_result"
    },
    {
     "data": {
      "image/png": "[encoded data removed]",
      "text/plain": [
       "<Figure size 432x288 with 1 Axes>"
      ]
     },
     "metadata": {
      "needs_background": "light"
     },
     "output_type": "display_data"
    }
   ],
   "source": [
    "siblings_group_surv = survived_df.groupby('SibSp', as_index = False).count()\n",
    "siblings_group_nsurv = not_survived_df.groupby('SibSp', as_index = False).count()\n",
    "\n",
    "bar_width1 = 1\n",
    "\n",
    "xcord1 = [0.5,3*bar_width1,6*bar_width1,9*bar_width1,\n",
    "          12*bar_width1]\n",
    "\n",
    "labels1 = ['Survived', 'Non Survived']\n",
    "\n",
    "xcord2 = [0.5 + bar_width1,4*bar_width1,7*bar_width1,\n",
    "         10*bar_width1,13*bar_width1,\n",
    "         16*bar_width1, 19*bar_width1]\n",
    "\n",
    "plt.bar(xcord1, siblings_group_surv['Survived'], bar_width1, \n",
    "        color = 'purple' , label = 'Survived')\n",
    "\n",
    "plt.bar(xcord2, siblings_group_nsurv['Survived'], bar_width1,\n",
    "        color = 'black', label = 'Not Survived')\n",
    "\n",
    "plt.xticks([1,4,7,10,13,16,19],[0,1,2,3,4,5,8])\n",
    "\n",
    "plt.xlabel('# of Siblings')\n",
    "plt.ylabel('Frequency')\n",
    "plt.title('Sibling effect on Survival')\n",
    "\n",
    "plt.legend()"
   ]
  },
  {
   "cell_type": "markdown",
   "metadata": {},
   "source": [
    "### Conclusion:\n",
    "    \n",
    "From the plot above it seems like passengers with 1 sibling fared better than other passengers."
   ]
  },
  {
   "cell_type": "markdown",
   "metadata": {},
   "source": [
    "### Question # 4 - How were the age and Fare variables distributed.?"
   ]
  },
  {
   "cell_type": "code",
   "execution_count": 19,
   "metadata": {},
   "outputs": [
    {
     "data": {
      "image/png": "[encoded data removed]",
      "text/plain": [
       "<Figure size 432x288 with 1 Axes>"
      ]
     },
     "metadata": {
      "needs_background": "light"
     },
     "output_type": "display_data"
    }
   ],
   "source": [
    "import seaborn as sns\n",
    "\n",
    "plt.hist(titanic_df['Fare'], bins = 20, color = '#42f48c')\n",
    "\n",
    "plt.xlabel('Fare paid by Passengers')\n",
    "plt.ylabel('Frequency')\n",
    "plt.title('Fare distribution among passengers in Titanic')\n",
    "\n",
    "plt.show()"
   ]
  },
  {
   "cell_type": "markdown",
   "metadata": {},
   "source": [
    "##### The distribution is positively skewed and has some outliers. This is analysed more in question # 5"
   ]
  },
  {
   "cell_type": "code",
   "execution_count": 20,
   "metadata": {},
   "outputs": [
    {
     "data": {
      "image/png": "[encoded data removed]",
      "text/plain": [
       "<Figure size 432x288 with 1 Axes>"
      ]
     },
     "metadata": {
      "needs_background": "light"
     },
     "output_type": "display_data"
    },
    {
     "data": {
      "image/png": "[encoded data removed]",
      "text/plain": [
       "<Figure size 432x288 with 1 Axes>"
      ]
     },
     "metadata": {
      "needs_background": "light"
     },
     "output_type": "display_data"
    }
   ],
   "source": [
    "titanic_df_ageaszero = titanic_df\n",
    "\n",
    "titanic_df_ageaszero['Age'] = titanic_df['Age'].fillna(0)\n",
    "\n",
    "plt.hist(titanic_df_ageaszero['Age'], bins = 20, color = '#f46b42')\n",
    "\n",
    "plt.xlabel('Age of the Passengers')\n",
    "plt.ylabel('Frequency')\n",
    "plt.title('Age distribution among passengers in Titanic')\n",
    "\n",
    "plt.show()\n",
    "\n",
    "age_nonzero = titanic_df.loc[titanic_df.Age != 0]\n",
    "\n",
    "plt.hist(titanic_df_modified['Age'] , bins = 20)\n",
    "\n",
    "plt.xlabel('Age of the Passengers')\n",
    "plt.ylabel('Frequency')\n",
    "plt.title('Age distribution among passengers with only non-zero ages')\n",
    "\n",
    "plt.show()"
   ]
  },
  {
   "cell_type": "markdown",
   "metadata": {},
   "source": [
    "###### The Age distribution is almost normal with significant values below 5, due to the fact about 177 values were missing and 0 was added in those place Dropping the non-zero values yielded a somewhat more normal distribution"
   ]
  },
  {
   "cell_type": "markdown",
   "metadata": {},
   "source": [
    "### Question # 5 - How were the fare distribution based on class and station embarked.? were there any outliers.?"
   ]
  },
  {
   "cell_type": "code",
   "execution_count": 21,
   "metadata": {},
   "outputs": [
    {
     "data": {
      "image/png": "[encoded data removed]",
      "text/plain": [
       "<Figure size 432x288 with 1 Axes>"
      ]
     },
     "metadata": {
      "needs_background": "light"
     },
     "output_type": "display_data"
    },
    {
     "data": {
      "image/png": "[encoded data removed]",
      "text/plain": [
       "<Figure size 432x288 with 1 Axes>"
      ]
     },
     "metadata": {
      "needs_background": "light"
     },
     "output_type": "display_data"
    }
   ],
   "source": [
    "import seaborn as sns\n",
    "\n",
    "sns.boxplot(x=titanic_df['Pclass'], y = titanic_df['Fare'], palette = 'Set2',linewidth = '1.5')\n",
    "\n",
    "plt.title('(Fig.1) Analysis of distribution, outliers for fare of passenger class')\n",
    "\n",
    "plt.show()\n",
    "\n",
    "sns.boxplot(x = titanic_df['Embarked'], y = titanic_df['Fare'])\n",
    "\n",
    "plt.title('(Fig.2) Analysis of distribution, outliers for fare of station embarked')\n",
    "plt.ylim(0,550)\n",
    "plt.show()"
   ]
  },
  {
   "cell_type": "markdown",
   "metadata": {},
   "source": [
    "The First plot (Fig.1) shows the class of the passengers and the fare distribution. From the plot, it looks like the first class had a varying level of ticket prices and spread around the mean well. Also, the plot shows few outliers. Also the variability of tickets for class 2 and 3 was very minimal.\n",
    "\n",
    "The Second plot (Fig.2), in my opinion, shows an interesting phenomenon. The passengers from Cherbourg had paid considerably varying amounts of fare and most importantly a large group of those fares are distributed above the median and third quartile. It also had quite a few outliers. Based on below findings,\n",
    "\n",
    "    1. A Large portion of data is distributed from median to the third quartile.\n",
    "    2. It also has a longer 3rd quartile to maximum and higher maximum value than the rest.\n",
    "    3. It has more outliers than the rest.\n",
    "\n",
    "we can predict some demographical information from this like Cherbourg might be a Middle to upper-class demography.\n",
    "\n",
    "Although the inference from this limited data set and the visualization should not be used as an indicator for any studies or publication."
   ]
  },
  {
   "cell_type": "markdown",
   "metadata": {},
   "source": [
    "### Data visualization between Age and Fare variables"
   ]
  },
  {
   "cell_type": "code",
   "execution_count": 22,
   "metadata": {},
   "outputs": [
    {
     "name": "stderr",
     "output_type": "stream",
     "text": [
      "C:\\Users\\ADMIN\\anaconda3\\lib\\site-packages\\matplotlib\\collections.py:922: RuntimeWarning: invalid value encountered in sqrt\n",
      "  scale = np.sqrt(self._sizes) * dpi / 72.0 * self._factor\n"
     ]
    },
    {
     "data": {
      "text/plain": [
       "Text(0.5, 1.0, 'Plot based on the standardized value for Fare')"
      ]
     },
     "execution_count": 22,
     "metadata": {},
     "output_type": "execute_result"
    },
    {
     "data": {
      "image/png": "[encoded data removed]",
      "text/plain": [
       "<Figure size 432x288 with 1 Axes>"
      ]
     },
     "metadata": {
      "needs_background": "light"
     },
     "output_type": "display_data"
    }
   ],
   "source": [
    "pointerscales = (titanic_df['Fare'] - titanic_df['Fare'].mean())/titanic_df['Fare'].std()\n",
    "\n",
    "colors = np.random.rand(891, 3)\n",
    "\n",
    "plt.scatter(titanic_df['Age'], titanic_df['Fare'], s = pointerscales * 50, c = colors) \n",
    "\n",
    "plt.xlabel('Age')\n",
    "plt.ylabel('Fare')\n",
    "plt.title('Plot based on the standardized value for Fare')"
   ]
  },
  {
   "cell_type": "markdown",
   "metadata": {},
   "source": [
    "### Final Conclusion\n",
    "\n",
    "Although the data limitation did not allow us to run Z, T-tests, Chi-Square for categorical variable provided some interesting and important insights,\n",
    "\n",
    "### Analysis #1 :\n",
    "\n",
    "The relation between the class(Socio-economic status) and Survival was, in my opinion, the most important one. It was, to a certain level, aligned with my expectation, but the strength of that relation surprised me.\n",
    "\n",
    "However, this do not imply any causation, and this should not be used as an indicator to arrive at any future decisions.\n",
    "\n",
    "### Analysis #2 :\n",
    "\n",
    "The next correlation between gender and Survival rate was very much aligned with my expectation, and this was not a surprise. Any disaster should involve in getting children, women to safety and that's exactly happened here.\n",
    "\n",
    "However, again, this does not imply causation.\n",
    "\n",
    "### Other Analysis and observation\n",
    "\n",
    "    1.Passengers with one sibling seemed to have fared better based on the visualization.\n",
    "    2.The Age frequency was almost normalized and indicates data gathered around the mean.\n",
    "    3.Passengers embarked from Cherbourg had paid fares higher than rest of the origin and had quite a few outliers too.\n",
    "    4.The first class tickets had lot of variablility in its fare. So first classe data can be used to analyse how the survival rate fared with in the class.\n",
    "    \n",
    "Though this dataset helped in some good understanding of the disaster and provided some valuable information, it does not do much in contributing to avoid such disasters in the future because of the limitations mentioned at the beginning of the project, after all, we cannot fit all people in first class."
   ]
  }
 ],
 "metadata": {
  "kernelspec": {
   "display_name": "Python 3",
   "language": "python",
   "name": "python3"
  },
  "language_info": {
   "codemirror_mode": {
    "name": "ipython",
    "version": 3
   },
   "file_extension": ".py",
   "mimetype": "text/x-python",
   "name": "python",
   "nbconvert_exporter": "python",
   "pygments_lexer": "ipython3",
   "version": "3.7.6"
  }
 },
 "nbformat": 4,
 "nbformat_minor": 2
}
